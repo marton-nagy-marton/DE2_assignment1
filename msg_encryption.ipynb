# Importing required modules
from google.colab import files
from Crypto.Cipher import PKCS1_OAEP
from Crypto.PublicKey import RSA
# Uploading the public key file
pub_file = files.upload()
# Reading the .pub file
with open(pub_file, "rb") as pub_file_n:
public_key_data = pub_file_n.read()
# Importing the public key
public_key = RSA.import_key(public_key_data)
# Defining the message that will be encoded
secret_message = "Tisztelt Miniszter Úr! Remélem levelem jó egészségben találja. Maradok tisztelettel, Török Péter".encode("utf-8")
# Encryption of the message
public_key_cipher = PKCS1_OAEP.new(public_key)
encrypted_message = public_key_cipher.encrypt(secret_message)
print(encrypted_message)
# Saving the encrypted message to a .bin file
output_file = "encrypted_message.bin"
with open(output_file, "wb") as file:
 	ile.write(encrypted_message)
# Download the file to your PC
files.download(output_file)


