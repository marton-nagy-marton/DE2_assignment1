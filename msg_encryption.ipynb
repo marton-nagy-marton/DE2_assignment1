{
 "cells": [
  {
   "cell_type": "code",
   "execution_count": 1,
   "id": "d2ccfc60-a8b2-45f5-affa-8c50b696d556",
   "metadata": {},
   "outputs": [
    {
     "ename": "ModuleNotFoundError",
     "evalue": "No module named 'google.colab'",
     "output_type": "error",
     "traceback": [
      "\u001b[0;31m---------------------------------------------------------------------------\u001b[0m",
      "\u001b[0;31mModuleNotFoundError\u001b[0m                       Traceback (most recent call last)",
      "Cell \u001b[0;32mIn[1], line 2\u001b[0m\n\u001b[1;32m      1\u001b[0m \u001b[38;5;66;03m# Importing required modules\u001b[39;00m\n\u001b[0;32m----> 2\u001b[0m \u001b[38;5;28;01mfrom\u001b[39;00m \u001b[38;5;21;01mgoogle\u001b[39;00m\u001b[38;5;21;01m.\u001b[39;00m\u001b[38;5;21;01mcolab\u001b[39;00m \u001b[38;5;28;01mimport\u001b[39;00m files\n\u001b[1;32m      3\u001b[0m \u001b[38;5;28;01mfrom\u001b[39;00m \u001b[38;5;21;01mCrypto\u001b[39;00m\u001b[38;5;21;01m.\u001b[39;00m\u001b[38;5;21;01mCipher\u001b[39;00m \u001b[38;5;28;01mimport\u001b[39;00m PKCS1_OAEP\n\u001b[1;32m      4\u001b[0m \u001b[38;5;28;01mfrom\u001b[39;00m \u001b[38;5;21;01mCrypto\u001b[39;00m\u001b[38;5;21;01m.\u001b[39;00m\u001b[38;5;21;01mPublicKey\u001b[39;00m \u001b[38;5;28;01mimport\u001b[39;00m RSA\n",
      "\u001b[0;31mModuleNotFoundError\u001b[0m: No module named 'google.colab'"
     ]
    }
   ],
   "source": [
    "# Importing required modules\n",
    "from google.colab import files\n",
    "from Crypto.Cipher import PKCS1_OAEP\n",
    "from Crypto.PublicKey import RSA"
   ]
  },
  {
   "cell_type": "code",
   "execution_count": null,
   "id": "9047dfb9-8bec-4d41-8277-fc50009fbeef",
   "metadata": {},
   "outputs": [],
   "source": [
    "# Uploading the public key file\n",
    "pub_file = files.upload()\n",
    "# Reading the .pub file\n",
    "with open(pub_file, \"rb\") as pub_file_n:\n",
    "public_key_data = pub_file_n.read()"
   ]
  },
  {
   "cell_type": "code",
   "execution_count": 5,
   "id": "0be68230-4483-4876-8545-0a42b3d68c09",
   "metadata": {},
   "outputs": [
    {
     "ename": "NameError",
     "evalue": "name 'RSA' is not defined",
     "output_type": "error",
     "traceback": [
      "\u001b[0;31m---------------------------------------------------------------------------\u001b[0m",
      "\u001b[0;31mNameError\u001b[0m                                 Traceback (most recent call last)",
      "Cell \u001b[0;32mIn[5], line 2\u001b[0m\n\u001b[1;32m      1\u001b[0m \u001b[38;5;66;03m# Importing the public key\u001b[39;00m\n\u001b[0;32m----> 2\u001b[0m public_key \u001b[38;5;241m=\u001b[39m RSA\u001b[38;5;241m.\u001b[39mimport_key(public_key_data)\n\u001b[1;32m      3\u001b[0m \u001b[38;5;66;03m# Defining the message that will be encoded\u001b[39;00m\n\u001b[1;32m      4\u001b[0m secret_message \u001b[38;5;241m=\u001b[39m \u001b[38;5;124m\"\u001b[39m\u001b[38;5;124mTisztelt Miniszter Úr! Remélem levelem jó egészségben találja. Maradok tisztelettel, Török Péter\u001b[39m\u001b[38;5;124m\"\u001b[39m\u001b[38;5;241m.\u001b[39mencode(\u001b[38;5;124m\"\u001b[39m\u001b[38;5;124mutf-8\u001b[39m\u001b[38;5;124m\"\u001b[39m)\n",
      "\u001b[0;31mNameError\u001b[0m: name 'RSA' is not defined"
     ]
    }
   ],
   "source": [
    "# Importing the public key\n",
    "public_key = RSA.import_key(public_key_data)\n",
    "# Defining the message that will be encoded\n",
    "secret_message = \"Tisztelt Miniszter Úr! Remélem levelem jó egészségben találja. Maradok tisztelettel, Török Péter\".encode(\"utf-8\")"
   ]
  },
  {
   "cell_type": "code",
   "execution_count": null,
   "id": "e38305a6-9d9d-4211-81d4-179f793b19d3",
   "metadata": {},
   "outputs": [],
   "source": [
    "# Encryption of the message\n",
    "public_key_cipher = PKCS1_OAEP.new(public_key)\n",
    "encrypted_message = public_key_cipher.encrypt(secret_message)\n",
    "print(encrypted_message)"
   ]
  },
  {
   "cell_type": "code",
   "execution_count": 3,
   "id": "2728fd55-a4cf-4e5e-8b59-20a0c6fc948c",
   "metadata": {},
   "outputs": [
    {
     "ename": "NameError",
     "evalue": "name 'ile' is not defined",
     "output_type": "error",
     "traceback": [
      "\u001b[0;31m---------------------------------------------------------------------------\u001b[0m",
      "\u001b[0;31mNameError\u001b[0m                                 Traceback (most recent call last)",
      "Cell \u001b[0;32mIn[3], line 4\u001b[0m\n\u001b[1;32m      2\u001b[0m output_file \u001b[38;5;241m=\u001b[39m \u001b[38;5;124m\"\u001b[39m\u001b[38;5;124mencrypted_message.bin\u001b[39m\u001b[38;5;124m\"\u001b[39m\n\u001b[1;32m      3\u001b[0m \u001b[38;5;28;01mwith\u001b[39;00m \u001b[38;5;28mopen\u001b[39m(output_file, \u001b[38;5;124m\"\u001b[39m\u001b[38;5;124mwb\u001b[39m\u001b[38;5;124m\"\u001b[39m) \u001b[38;5;28;01mas\u001b[39;00m file:\n\u001b[0;32m----> 4\u001b[0m  \tile\u001b[38;5;241m.\u001b[39mwrite(encrypted_message)\n\u001b[1;32m      5\u001b[0m \u001b[38;5;66;03m# Download the file to your PC\u001b[39;00m\n\u001b[1;32m      6\u001b[0m files\u001b[38;5;241m.\u001b[39mdownload(output_file)\n",
      "\u001b[0;31mNameError\u001b[0m: name 'ile' is not defined"
     ]
    }
   ],
   "source": [
    "# Saving the encrypted message to a .bin file\n",
    "output_file = \"encrypted_message.bin\"\n",
    "with open(output_file, \"wb\") as file:\n",
    " \tile.write(encrypted_message)\n",
    "# Download the file to your PC\n",
    "files.download(output_file)"
   ]
  },
  {
   "cell_type": "code",
   "execution_count": null,
   "id": "4d4dc567-b135-452c-baa6-e84fc8b4219f",
   "metadata": {},
   "outputs": [],
   "source": []
  }
 ],
 "metadata": {
  "kernelspec": {
   "display_name": "Python 3 (ipykernel)",
   "language": "python",
   "name": "python3"
  },
  "language_info": {
   "codemirror_mode": {
    "name": "ipython",
    "version": 3
   },
   "file_extension": ".py",
   "mimetype": "text/x-python",
   "name": "python",
   "nbconvert_exporter": "python",
   "pygments_lexer": "ipython3",
   "version": "3.12.4"
  }
 },
 "nbformat": 4,
 "nbformat_minor": 5
}
